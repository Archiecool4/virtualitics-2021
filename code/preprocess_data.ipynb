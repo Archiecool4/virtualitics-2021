{
 "cells": [
  {
   "cell_type": "markdown",
   "id": "a00ca932-e288-42d6-9a8d-4a75f70b1bcc",
   "metadata": {},
   "source": [
    "# Data Preprocessing"
   ]
  },
  {
   "cell_type": "code",
   "execution_count": 6,
   "id": "11ed2aa3-a44c-4dc2-8611-adb70a64b702",
   "metadata": {},
   "outputs": [],
   "source": [
    "import numpy as np\n",
    "from scipy.io import mmread, mmwrite\n",
    "from scipy import sparse\n",
    "import os\n",
    "import pandas as pd\n",
    "\n",
    "data_path = '../data/'"
   ]
  },
  {
   "cell_type": "code",
   "execution_count": null,
   "id": "46954ba3-6aa6-4104-96aa-ef376b26da17",
   "metadata": {},
   "outputs": [],
   "source": [
    "# Run only once\n",
    "# !unzip '../data/COVID-Data.zip' -d '../data'"
   ]
  },
  {
   "cell_type": "markdown",
   "id": "3638b408-c21e-45e4-81e0-b62b20ada5af",
   "metadata": {},
   "source": [
    "### Normalize data  \n",
    "Per instructions given to us by the data source provider, the data was normalized as follows: \n",
    "1. Remove rows that sum to 0. \n",
    "2. Take each column and divide each entry by the column sum. \n",
    "2. Multiply matrix by 10000. \n",
    "3. Take $\\log(1+x)$  \n",
    "This is a RAM-intensive operation, so variables were deleted after use. "
   ]
  },
  {
   "cell_type": "code",
   "execution_count": 7,
   "id": "7ebd3639-cb79-4ca5-a177-8f951714c3d2",
   "metadata": {},
   "outputs": [],
   "source": [
    "mtx = mmread(os.path.join(data_path, 'matrix.mtx'))\n",
    "\n",
    "# Compressed Sparse Column (fast column ops)\n",
    "csc_mtx = mtx.tocsc()\n",
    "# Save memory\n",
    "del mtx\n",
    "\n",
    "row_sums = csc_mtx.sum(axis=1)\n",
    "# Slice out all rows that do not sum to 0\n",
    "csc_mtx = csc_mtx[np.where(np.asarray(row_sums).flatten() != 0)]\n",
    "del row_sums\n",
    "\n",
    "# Compressed Sparse Row (fast row ops)\n",
    "csr_mtx = csc_mtx.tocsr()\n",
    "del csc_mtx\n",
    "\n",
    "column_sums = csr_mtx.sum(axis=0)\n",
    "# We don't want to divide by 0, so we set them to 1. This is ok because\n",
    "# after the division, the value is 0 anyways. \n",
    "column_sums[np.where(column_sums == 0)] = 1\n",
    "normal = csr_mtx.multiply(1 / column_sums)\n",
    "del column_sums\n",
    "del csr_mtx\n",
    "\n",
    "normalized_data = normal.multiply(10 ** 4).log1p()\n",
    "del normal\n",
    "\n",
    "# Write to file\n",
    "mmwrite(os.path.join(data_path, 'normalized_data.mtx'), normalized_data)"
   ]
  },
  {
   "cell_type": "markdown",
   "id": "d565f4a5-748d-4092-8310-d8afabb3b681",
   "metadata": {},
   "source": [
    "### Metadata"
   ]
  },
  {
   "cell_type": "code",
   "execution_count": 8,
   "id": "6f792363-944a-47e9-bb3f-2932ccf89594",
   "metadata": {},
   "outputs": [],
   "source": [
    "# We can ignore meta.csv because its encompassed in meta_celltypes.csv\n",
    "df_meta = pd.read_csv(os.path.join(data_path, 'meta_celltypes.csv'))"
   ]
  },
  {
   "cell_type": "code",
   "execution_count": 6,
   "id": "8f7e14dd-766a-4953-886f-657176bb40c8",
   "metadata": {},
   "outputs": [],
   "source": [
    "# df_meta = df_meta.drop(columns='sample_number')\n",
    "df_meta = df_meta.drop(columns=['sample_number', 'Unnamed: 0'])"
   ]
  },
  {
   "cell_type": "markdown",
   "id": "b2e1f4f2-aca1-4755-8ef9-64eb235c398f",
   "metadata": {},
   "source": [
    "### Read from sparse file"
   ]
  },
  {
   "cell_type": "code",
   "execution_count": 110,
   "id": "481b27fb-b2b0-417a-8c7d-05f0c0d90d21",
   "metadata": {},
   "outputs": [
    {
     "data": {
      "text/plain": [
       "<24557x47174 sparse matrix of type '<class 'numpy.float64'>'\n",
       "\twith 113466611 stored elements in COOrdinate format>"
      ]
     },
     "execution_count": 110,
     "metadata": {},
     "output_type": "execute_result"
    }
   ],
   "source": [
    "mat = mmread(os.path.join(data_path, 'normalized_data.mtx'))\n",
    "df = pd.DataFrame.sparse.from_spmatrix(mat)"
   ]
  },
  {
   "cell_type": "code",
   "execution_count": 7,
   "id": "985736a6-bf03-474b-ad78-a40dda9a9fc0",
   "metadata": {},
   "outputs": [],
   "source": [
    "# Tidy data with genes as columns and cells as rows\n",
    "df_transposed = df.T\n",
    "df_transposed['cell_type'] = df_meta['cell_type'].copy()\n",
    "df_transposed['treatment'] = df_meta['sample_id'].copy()\n",
    "df_transposed['cell_barcode'] = df_meta['cell_barcode'].copy()\n",
    "df_transposed.index.names = [\"cells\"]\n",
    "\n",
    "# let's drop unknown treatment and na cell type. These are the ones with no_max\n",
    "df_transposed = df_transposed.loc[df_transposed[\"treatment\"]!=\"unknown\"]"
   ]
  },
  {
   "cell_type": "code",
   "execution_count": 197,
   "id": "17239e7b-d644-4730-924b-9514dfecf106",
   "metadata": {},
   "outputs": [],
   "source": [
    "# Let us only consider cells that are treated with the drugs. \n",
    "df_transposed= df_transposed[df_transposed['treatment'].apply(lambda x: x in drugs)]\n",
    "df_transposed['treatment'] = df_transposed['treatment'].replace({'CYCLOSPORINE_ALL CYTO.1':'CYCLOSPORINE_ALL CYTO',\n",
    "                                                                'ALPROSTADIL_ALL CYTO.1':'ALPROSTADIL_ALL CYTO',\n",
    "                                                                'DASATINIB_ALL CYTO.1':'DASATINIB_ALL CYTO',\n",
    "                                                                'ALL CYTO.1':'ALL CYTO'})\n"
   ]
  },
  {
   "cell_type": "code",
   "execution_count": 200,
   "id": "ddecdd45-befb-436e-a778-5340edfa5981",
   "metadata": {},
   "outputs": [],
   "source": [
    "df_transposed.to_csv('covid_four_drugs.csv')"
   ]
  }
 ],
 "metadata": {
  "kernelspec": {
   "display_name": "Python 3 (ipykernel)",
   "language": "python",
   "name": "python3"
  },
  "language_info": {
   "codemirror_mode": {
    "name": "ipython",
    "version": 3
   },
   "file_extension": ".py",
   "mimetype": "text/x-python",
   "name": "python",
   "nbconvert_exporter": "python",
   "pygments_lexer": "ipython3",
   "version": "3.8.11"
  }
 },
 "nbformat": 4,
 "nbformat_minor": 5
}
